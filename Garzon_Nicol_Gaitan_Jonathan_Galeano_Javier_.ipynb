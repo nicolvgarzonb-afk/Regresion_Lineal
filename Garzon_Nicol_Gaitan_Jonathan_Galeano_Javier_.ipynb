{
  "cells": [
    {
      "cell_type": "markdown",
      "metadata": {
        "id": "view-in-github",
        "colab_type": "text"
      },
      "source": [
        "<a href=\"https://colab.research.google.com/github/nicolvgarzonb-afk/Regresion_Lineal/blob/main/Garzon_Nicol_Gaitan_Jonathan_Galeano_Javier_.ipynb\" target=\"_parent\"><img src=\"https://colab.research.google.com/assets/colab-badge.svg\" alt=\"Open In Colab\"/></a>"
      ]
    },
    {
      "cell_type": "markdown",
      "metadata": {
        "id": "Ii_7DdtJH8e2"
      },
      "source": [
        "# Taller 3: Regresión Lineal y Conceptos Fundamentales\n",
        "\n",
        "\n"
      ],
      "id": "Ii_7DdtJH8e2"
    },
    {
      "cell_type": "markdown",
      "metadata": {
        "id": "1KuTZ6PkH8e5"
      },
      "source": [
        "## Instrucciones Generales\n",
        "\n",
        "**Fecha de entrega:** 20 de septiembre.\n",
        "**Tiempo disponible:** Tienen dos clases y el fin de semana para completar el taller.\n",
        "\n",
        "1.  **Trabajo en Grupo:** Este taller se debe realizar en los grupos previamente definidos.\n",
        "2.  **Repositorio en GitHub:** Cada grupo debe crear un repositorio en GitHub.\n",
        "    * Una sola persona del grupo es responsable de crearlo.\n",
        "    * El repositorio debe llamarse **`Regresion_Lineal`**.\n",
        "    * Este archivo debe ser subido al repositorio con el nombre **`Regresion_Lineal.ipynb`**.\n",
        "    * **Alternativa:** Si tienen complicaciones con GitHub, pueden enviar el enlace del cuaderno de Google Colab al aula virtual.\n",
        "3.  **Actividad a Mano (20% de la nota):**\n",
        "    * La asistencia a clase es **obligatoria**.\n",
        "    * Se realizará una actividad práctica de regresión lineal a mano.\n",
        "    * Cada integrante del grupo deberá firmar la hoja de la actividad, la cual constituye el 20% de la nota de este taller."
      ],
      "id": "1KuTZ6PkH8e5"
    },
    {
      "cell_type": "markdown",
      "metadata": {
        "id": "mgaEeFAbH8e7"
      },
      "source": [
        "---"
      ],
      "id": "mgaEeFAbH8e7"
    },
    {
      "cell_type": "markdown",
      "metadata": {
        "id": "et22XL5bH8e7"
      },
      "source": [
        "## **Parte 1: Definición del Problema**\n",
        "\n",
        "Piensa en tu experiencia académica o laboral en un área de operaciones y elige **un problema** relacionado con inventarios, calidad, mantenimiento o productividad.\n",
        "\n",
        "1.  Indica cuál es tu variable dependiente **$Y$** (aquello que quieres predecir o clasificar).\n",
        "2.  Lista entre 3 y 5 variables independientes **$X$** que medirías para predecir $Y$.\n",
        "3.  Especifica si tu problema es de **regresión** (predecir un valor numérico) o de **clasificación**."
      ],
      "id": "et22XL5bH8e7"
    },
    {
      "cell_type": "markdown",
      "metadata": {
        "id": "pxSLPR4AH8e8"
      },
      "source": [
        "**Respuesta (escribe aquí):**\n",
        "\n",
        "\n",
        "**Respuesta 1:**\n",
        "Preferencia o aceptación del producto por parte del consumidor.\n",
        "\n",
        "**Respuesta 2:**\n",
        "1. Color del envase categorica (roja y morada)\n",
        "2. Frecuencia de consumo de leche ( Nunca, frecuente, Quincenal y mensual)\n",
        "3. Atractivo visual (tetrapack o bolsa)  \n",
        "\n",
        "**Respuesta 3:**\n",
        "La pendiente del problema es de clasificación porque la variable dependiente se expresa en categorias en preferencias de envase rojo y envase morado o no prefiere y no se reflejan en valores numericos continuos."
      ],
      "id": "pxSLPR4AH8e8"
    },
    {
      "cell_type": "markdown",
      "metadata": {
        "id": "fGoj1KxxH8e8"
      },
      "source": [
        "---"
      ],
      "id": "fGoj1KxxH8e8"
    },
    {
      "cell_type": "markdown",
      "metadata": {
        "id": "eHOtOSQiH8e9"
      },
      "source": [
        "## **Parte 2: Preprocesamiento de Datos y *Leakage***\n",
        "\n",
        "Basado en el caso que definiste en la Parte 1:\n",
        "\n",
        "1.  Lista entre 3 y 5 **transformaciones** que aplicarías a tus datos (ej. imputación de valores faltantes, codificación de variables categóricas, escalado, creación de *lags*, etc.) y **justifica por qué** cada una es necesaria.\n",
        "2.  Señala un posible riesgo de ***data leakage*** (fuga de datos) en tu plan y explica cómo lo evitarías usando un *pipeline* de preprocesamiento."
      ],
      "id": "eHOtOSQiH8e9"
    },
    {
      "cell_type": "markdown",
      "metadata": {
        "id": "6KYkmr9mH8e9"
      },
      "source": [
        "**Respuesta 1 (escribe aquí):**\n",
        "1. Inputación de valores faltantes, los encuestados pueden omitir datos como no responder frecuencia del consumo en que es necesario complementar valores para no peder información.\n",
        "\n",
        "**Método:** usar la moda para variables categóricas y la mediana para valores numéricos.\n",
        "\n",
        "2. Codificacion de variable categorica; variables como el color del envase o tipo de empaque que son cualitativas en que esto se analiza en un sistema de producción o de apoyo a desiciones en que se esto se transforma en valores numericos y esto nos permite una comparación y relación con otras variables.\n",
        "\n",
        "3. Balance de clases de variables dependientes; si la mayoria de consumidores prefieren un solo tipo de envase \" Rojo\" el análisis se enfocaria solo en ese grupo y no se reflejaria el comportamiento completo del mercado.\n",
        "\n",
        "**Respuesta 2**:\n",
        "1. Imputacion de valores faltantes\n",
        "riesgo de data leakage\n",
        "si la moda o la mediana se calcula usando toda la base de datos se estaria introduciendo informacion del conjunto de prueba en la etapa de (frecuencia de consumo) y evitarlos con un pipeline.\n",
        "\n",
        "Calcular la mediana o la moda con datos de color de envase; (frecuencia de consumo) guardados como referencia y aplicarlo en el conjunto de prueba sin volver a calcularlos.\n",
        "\n",
        "2. Codificación de variables categoricas\n",
        "Riesgo de data leakage\n",
        "Si se generan categorias como codigos de color de envase a patir de todos los datos se corre un riesgo de incluir categoroias que solo aparecen en un conjunto de prueba dando ventaja indevida al modelo aplicado y evitarlos con un pipeline.\n",
        "\n",
        "Definir un esquema unico con datos de un modelo de frecuencia de consumo atractivo o visual que al mantenerlo fijo al aplicarlo en datos de prueba.\n",
        "\n",
        "3. Balance de clases en variables dependientes\n",
        "Riesgo de data lakage\n",
        "Si se equilibra la distribución de clases de toda la base de datos el conjunto de prueba pierde su representatividad real en que se obtiene una evaluación poco confiable y como evitarlo con pipeline.\n",
        "Aplicar un balance exclusivamente en el conjunto de color de envase y atractivo visual dejando un conjunto de prueba con distribucion para poder medir el desempeño de manera realista.\n"
      ],
      "id": "6KYkmr9mH8e9"
    },
    {
      "cell_type": "markdown",
      "metadata": {
        "id": "hbyCKrY6H8e-"
      },
      "source": [
        "---"
      ],
      "id": "hbyCKrY6H8e-"
    },
    {
      "cell_type": "markdown",
      "metadata": {
        "id": "ukCTM2EKH8e-"
      },
      "source": [
        "## **Parte 3: Interpretación y Métricas de Regresión Simple**\n",
        "\n",
        "Para esta sección, elige un caso simple de regresión (puede ser el tuyo o uno hipotético, como predecir la demanda de un producto según su precio).\n",
        "\n",
        "1.  Define claramente las variables **$Y$** y **$X$** junto con sus **unidades** (ej. $Y$: número de unidades vendidas, $X$: precio en dólares).\n",
        "2.  Supón que entrenas un modelo y obtienes una pendiente de **$\\hat{\\beta}_1 = -0.6$**. Escribe una interpretación clara y concisa de este coeficiente en el contexto de tu problema.\n",
        "3.  ¿Qué **métrica** de evaluación usarías (MAE, RMSE, o MAPE) y **por qué** es la más adecuada para tu caso?\n",
        "4.  Menciona **un supuesto** del modelo de regresión lineal que validarías (ej. linealidad, homocedasticidad) y explica **cómo** lo harías (usando un gráfico o una prueba estadística)."
      ],
      "id": "ukCTM2EKH8e-"
    },
    {
      "cell_type": "markdown",
      "metadata": {
        "id": "5KGzW8pSH8e_"
      },
      "source": [
        "**Respuesta (escribe aquí):**\n",
        "\n",
        "1. Y (variable dependiente) número de autos vendidos por mes (unidades).\n",
        "X (variable independiente) precio promedio de venta del auto (en millones de pesos).\n",
        "\n",
        "2. Coeficiente de β^1=−0.6\n",
        "\n",
        "2.1. Por cada aumento de $1.000.000 en el precio del auto vs ventas disminuyan del 0.6 unidades al mes.\n",
        "\n",
        "2.2. Si el precio sube se venden menos autos y si el precio es bajo se venden mas autos.\n",
        "\n",
        "2.3. La relación negativa con cuerda con el mercado mayor precio menor demanda.\n",
        "\n",
        "3. La mas adecuada de las elecciones metricas de evaluación es la  RMSE por que ayuda a detectar y penalizar los errores grandes \" Al equivocarse en la prediccion de la venta de autos se tendrian muchos problemas en el invetario, perdidos economicas o exceso de stock, por eso la metrica mejora la presicion del modelo.\n",
        "\n",
        "4. Este modelo supone que entre la relacion entre el precio y las ventas es lineal en que es decir sigue una tendencia recta.\n",
        "\n",
        "4.1. Grafico de dispersion entre precio y # de autos vendidos.\n",
        "\n",
        "4.2. Los puntos siguen en una linea decendente el supuesto se cumple.\n",
        "\n",
        "4.3. Grafico entre la diferencia de valor real y el valor predicho por el modelo vs el precio en que esto se evidencia en linealidad.\n",
        "\n"
      ],
      "id": "5KGzW8pSH8e_"
    },
    {
      "cell_type": "markdown",
      "metadata": {
        "id": "NlCf92svH8e_"
      },
      "source": [
        "---"
      ],
      "id": "NlCf92svH8e_"
    },
    {
      "cell_type": "markdown",
      "metadata": {
        "id": "DEOrd_fSH8e_"
      },
      "source": [
        "## **Parte 4: Regresión Múltiple y Colinealidad**\n",
        "\n",
        "Volviendo a tu caso de la Parte 1 (con múltiples variables).\n",
        "\n",
        "1.  Escribe el **vector de variables** $\\vec{X}$ y la **respuesta** $Y$.\n",
        "2.  Explica cómo interpretarías el **coeficiente** de una de tus variables clave (incluyendo unidades y el sentido de la relación: positiva o negativa).\n",
        "3.  Si sospecharas que existe **colinealidad** entre tus variables, menciona **dos acciones** que podrías tomar para mitigarla."
      ],
      "id": "DEOrd_fSH8e_"
    },
    {
      "cell_type": "markdown",
      "metadata": {
        "id": "REUWPUP_H8fA"
      },
      "source": [
        "**Respuesta (escribe aquí):**\n",
        "1. Vector variable X:\n",
        "\n",
        "X= ( X1,X2,X3)\n",
        "\n",
        "* X1: Color del envase \"categoria roja o morada\"\n",
        "* X2: Frecuencia de consumo de leche \"Nunca,frecuente,quincenal o mensual\"\n",
        "* X3: Atractivo visual \"tetrapack o bolsa\".\n",
        "\n",
        "2. Al aplicar el modelo de regresion logistica en que es un problema de regresion no lineal se tiene un coeficiente positivo para una variable atractivo visual \" tetrapack\".\n",
        "\n",
        "2.1. Si el producto se presenta en tetrapack la probabilidad de que el consumidor prefiera, aumenta en comparacion con presentarolo en bolsa.\n",
        "\n",
        "2.2. El signo positivo indica una relacion directa en tetrapack se persive mas atractivo y en que influye positivamente en la oreferencia del consumidor.\n",
        "\n",
        "2.3. Como variable es categorica la interpretacion no se da en unidades continuas si no en terminos de incremento en la probabilidad de preferencias.\n",
        "\n",
        "3. Al sospechar dos variables en que estan fuertemente correlacionadas \" color de envase\" \"atractivo visual\" nos esta transmitiendo una informacion muy parecida; tendria un problema de colinealidad.\n",
        "\n",
        "**Acciones para mitigar:**\n",
        "1. Combinar variables redundantes: Al ver el color y tipo de envase estan muy relacionadas en que esto podria construir una variable combinada.\n",
        "2. Analisis de componentes principal: Para reducir la dimensionalidad y reducir un solo factor relacionado.\n",
        "\n"
      ],
      "id": "REUWPUP_H8fA"
    },
    {
      "cell_type": "markdown",
      "metadata": {
        "id": "Kfz2bBkzH8fA"
      },
      "source": [
        "---"
      ],
      "id": "Kfz2bBkzH8fA"
    },
    {
      "cell_type": "markdown",
      "metadata": {
        "id": "d0sQYW3DH8fA"
      },
      "source": [
        "## **Parte 5: Interacciones y Multicolinealidad (VIF)**\n",
        "\n",
        "1.  Plantea un caso con una variable $Y$ y entre 4 y 6 variables $X$. ¿Qué término de **interacción** entre dos variables podrías añadir al modelo y **por qué** crees que sería útil?\n",
        "2.  Si al calcular el Factor de Inflación de la Varianza (VIF) para una variable, obtienes un valor alto (ej. > 10), menciona **dos acciones** que podrías tomar para solucionarlo."
      ],
      "id": "d0sQYW3DH8fA"
    },
    {
      "cell_type": "markdown",
      "metadata": {
        "id": "tEgefQ1cH8fA"
      },
      "source": [
        "**Respuesta (escribe aquí):**\n",
        "1. Planteamiento del caso:\n",
        "Venta de computadores marca samsung vs hp\n",
        "\n",
        "**Variable dependietne Y:**\n",
        "1. Compra de samsung\n",
        "2. Compra hp\n",
        "\n",
        "**Variable dependiente X:**\n",
        "1. X1 Precio del equipo en pesos\n",
        "2. X2 Puntaje de especificacion (escala de 0 a 10)\n",
        "3. X3 Descuento vs promoción (%)\n",
        "4. X4 Clasificacion de servicio posventa (escala entre 1 a 5)\n",
        "5. X5 Ingreso promedio del cliente ($)\n",
        "6. X6 Utilidad de campaña (publicidad)\n",
        "\n",
        "**Interacion propuesta:**\n",
        "\n",
        "*  (X1)(X4)= (precio*servicio posventa)\n",
        "\n",
        "Porque es util:\n",
        "1. Porque el impacto del precio en la desicion de la compra puede depender del cuanto valora en cliente el servicio de posventa.\n",
        "2. Si el servicio es muy valorado en X4 el consumidor acepta un precio mas alto.\n",
        "3. Si el servicio no se valora en \"X4 bajo\" el precio tiene un efecto negativo.\n",
        "\n",
        "**Respuesta 2:**  VIF > 10\n",
        "\n",
        "Esto nos inidica en que una variable esta muy correlacionada con otras y que puede distorcionar el modelo es decir:\n",
        "\n",
        "1. Combinar variables correlacionadas\n",
        "\n",
        "Precio (X1) publicidad (X6) descuento (X3)\n",
        "\n",
        "**Nueva varible compuesta**\n",
        "\n",
        "* Promocion total= publicidad mas descuento %\n",
        "\n",
        "* Mejora la propuesta de modelo y la colinealidad\n",
        "\n",
        "2. Reducción de variables\n",
        "\n",
        "**Ridge Regression:**\n",
        "\n",
        "* Esto reduce el impacto de las variables correlacionadas sin eliminarlas ajustando su coeficiente para evitar inflación.\n",
        "\n",
        "**Lasso Regression:**\n",
        "\n",
        "* Se ajusta a un coeficiente; en que puede eliminar automaticamente las variables menos relevantes dejando solo las mas utlies \"el modelo se vuelve mas robusto y menos sensible a la colinealidad\"\n"
      ],
      "id": "tEgefQ1cH8fA"
    },
    {
      "cell_type": "markdown",
      "metadata": {
        "id": "8XdQIyu_H8fB"
      },
      "source": [
        "---"
      ],
      "id": "8XdQIyu_H8fB"
    },
    {
      "cell_type": "markdown",
      "metadata": {
        "id": "XKsr-uPlH8fB"
      },
      "source": [
        "## **Parte 6: Variables Categóricas e Interacciones**\n",
        "\n",
        "1.  Define una **variable categórica** para tu caso (puedes inventarla si no la tenías). Elige una de sus categorías como el nivel **base** o de referencia y **justifica** tu elección.\n",
        "2.  Crea una **interacción** entre una variable numérica y la variable categórica que definiste. Explica cómo se interpretaría el coeficiente de esta interacción."
      ],
      "id": "XKsr-uPlH8fB"
    },
    {
      "cell_type": "markdown",
      "metadata": {
        "id": "7i_JBwwbH8fC"
      },
      "source": [
        "**Respuesta (escribe aquí):**\n",
        "\n",
        "1. Categoria rojo y morado\n",
        "\n",
        "**Nivel de referencia rojo:**\n",
        "\n",
        "El empaque tetrapack rojo es mas comun en el mercado actual por lo tanto se usa como base intermitente comparado al envase morado en que genera mayor o menor preferencia respecto al mercado.\n",
        "\n",
        "2. (Frecuencia del consumo) (color del envase)\n",
        "\n",
        "* **Coefciente: frecuencia de consumo:**\n",
        "\n",
        "1. Nunca = 0\n",
        "2. Mensual = 1\n",
        "3. Quincenal = 2\n",
        "4. Frecuente = 3\n",
        "\n",
        "* **Color de envase:**\n",
        "\n",
        "1. Rojo = 0\n",
        "2. Morado = 1\n",
        "\n",
        "**Respuesta 2:**\n",
        "\n",
        "Interpretación:\n",
        "\n",
        "1. El coeficiente de la interacion nos indica como cambia el efecto de la frecuencia del consumo segun el color del envase.\n",
        "2. Si el coeficiente es positivo esto significa que el consumidor compra leche mas frecuente y que tienden a preferir el envase mas rojo y mas que el morado.\n",
        "3. Si el coeficiente es negativo entonces aunque el consumidor consuma leche mas seguido prefieren el envase preferieren el envase morado que el que el envase rojo."
      ],
      "id": "7i_JBwwbH8fC"
    },
    {
      "cell_type": "markdown",
      "metadata": {
        "id": "DjYrQWpqH8fC"
      },
      "source": [
        "---"
      ],
      "id": "DjYrQWpqH8fC"
    },
    {
      "cell_type": "markdown",
      "metadata": {
        "id": "mG9YJpeoH8fC"
      },
      "source": [
        "## **Parte 7: Conceptos Clave de Clasificación**\n",
        "\n",
        "Aunque el taller se centra en regresión, estos conceptos son fundamentales en Machine Learning.\n",
        "\n",
        "1.  Explica qué es la **curva ROC** y para qué se utiliza en un problema de clasificación.\n",
        "2.  Define el concepto de **accuracy** (exactitud) y menciona una situación en la que podría ser una métrica engañosa.\n",
        "3.  Describe qué es una **matriz de confusión** y cómo se interpretan sus componentes (Verdaderos Positivos, Falsos Positivos, Verdaderos Negativos, Falsos Negativos)."
      ],
      "id": "mG9YJpeoH8fC"
    },
    {
      "cell_type": "markdown",
      "metadata": {
        "id": "aq-cYN3nH8fD"
      },
      "source": [
        "**Respuesta (escribe aquí):**\n",
        "\n",
        "1. Curva ROC:\n",
        "\n",
        "Es una grafica en que nos muestra un modelo de clasificación en que se para casos positivos de los negativos.\n",
        "\n",
        "1.2. **Eje X: Tasa de falsos positivos**\n",
        "\n",
        "Sirve para evaluar tambien modelos que distiguen entre dos clases productos defectuosos vs productos no defectuosos.\n",
        "\n",
        "* Eje x es igual a tasa de falsos positivos\n",
        "* Eje Y es igual a tasa de verdaderos positivos\n",
        "\n",
        "En cuanto mas cerca este la curva de la esquina superior izquierda mejor es el modelo.\n",
        "\n",
        "**Respuesta 2:**\n",
        "\n",
        "1. La accuracy (exactitud)\n",
        "\n",
        "Es un porcentaje de predecciones correctas \"positivos y negativos\" sobre el total de los casos analizados.\n",
        "\n",
        "   accuracy = Tp + Tn / Tp + Tn + Fp + Fn\n",
        "\n",
        "* Tp = Verdaderos positivos\n",
        "\n",
        "* Tn = Verdaderos negativos\n",
        "* Fp y Fn = Son falsas alarmas u omisiones\n",
        "\n",
        "\n",
        "**Métrica engañosa:**\n",
        "\n",
        "Cuando los datos estan desbalanceados es decir cuando aparecen muchas veces que la otra.\n",
        "\n",
        "**Respuesta 3:**\n",
        "\n",
        "*  **Matriz de confusión:**\n",
        "\n",
        "Es una tabla de doble entrada en que nos muestra muchos resultados de un modelo de clasificación, separando los aciertos y errores segun lo que predice el modelo y lo que realmente ocurre.\n",
        "\n",
        "\n",
        "* **Verdaderos positivos (VP)**\n",
        "\n",
        "1. El modelo precide si el caso es positivo y realmente lo es.\n",
        "\n",
        "2. El modelo detecta correctamente que un lote de productos esta defectuoso.\n",
        "\n",
        "* **Falsos positivos (FP)**\n",
        "\n",
        "1. El modelo precide que el caso es positivo pero en realidad es negativo.\n",
        "2. El modelo señala que un lote esta defectuoso cuando en realidad no lo esta esto genera rechazo de productos buenos.\n",
        "\n",
        "* **Verdadero negativo (VN)**\n",
        "\n",
        "1. El modelo precide que el caso es negativo y realmente lo es.\n",
        "2. El modelo acierta al indicar que un lote esta en buen estado.\n",
        "\n",
        "* **Falsos negativos (FN)**\n",
        "\n",
        "1. El modelo precide que el caso es negativo pero en realidad es positivo.\n",
        "2. El modelo no detecta un defecto que existe, se envia un producto defectuoso al cliente.\n",
        "\n",
        "\n",
        "\n",
        "\n",
        "\n",
        "\n",
        "\n",
        "\n",
        "\n",
        "\n"
      ],
      "id": "aq-cYN3nH8fD"
    }
  ],
  "metadata": {
    "kernelspec": {
      "display_name": "Python 3",
      "language": "python",
      "name": "python3"
    },
    "language_info": {
      "name": "python",
      "version": "3.x"
    },
    "colab": {
      "provenance": [],
      "include_colab_link": true
    }
  },
  "nbformat": 4,
  "nbformat_minor": 5
}